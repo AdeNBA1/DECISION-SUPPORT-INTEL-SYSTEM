!pip install pandas
import pandas as pd
hospitalCost=pd.read_csv('HospitalDataset/HospitalCosts.csv')
hospitalCost
